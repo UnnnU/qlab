{
 "nbformat": 4,
 "nbformat_minor": 2,
 "metadata": {
  "language_info": {
   "name": "python",
   "codemirror_mode": {
    "name": "ipython",
    "version": 3
   },
   "version": "3.7.6-final"
  },
  "orig_nbformat": 2,
  "file_extension": ".py",
  "mimetype": "text/x-python",
  "name": "python",
  "npconvert_exporter": "python",
  "pygments_lexer": "ipython3",
  "version": 3,
  "kernelspec": {
   "name": "python37564bitprogramfilesvirtualenveb4a47f70ef54ba290fb81daa4505d52",
   "display_name": "Python 3.7.5 64-bit ('Programfiles': virtualenv)"
  }
 },
 "cells": [
  {
   "cell_type": "code",
   "execution_count": 1,
   "metadata": {},
   "outputs": [],
   "source": [
    "import pandas as pd \n",
    "import numpy as np"
   ]
  },
  {
   "cell_type": "code",
   "execution_count": 2,
   "metadata": {},
   "outputs": [],
   "source": [
    "data = pd.read_excel('data0308.xlsx')"
   ]
  },
  {
   "cell_type": "code",
   "execution_count": 3,
   "metadata": {},
   "outputs": [],
   "source": [
    "data.to_csv('data0308.csv')"
   ]
  },
  {
   "cell_type": "code",
   "execution_count": 4,
   "metadata": {},
   "outputs": [],
   "source": [
    "country = pd.read_csv('Country.csv')"
   ]
  },
  {
   "cell_type": "code",
   "execution_count": 7,
   "metadata": {},
   "outputs": [
    {
     "output_type": "execute_result",
     "data": {
      "text/plain": "     Unnamed: 0   name       name_en ISO3166_1_2 STANAG_1059  CID\n0             0    阿鲁巴         Aruba          AW         ABW    0\n1             1    阿富汗   Afghanistan          AF         AFG    1\n2             2    安哥拉        Angola          AO         AGO    2\n3             3    安圭拉      Anguilla          AI         AIA    3\n4             4  阿尔巴尼亚       Albania          AL         ALB    4\n..          ...    ...           ...         ...         ...  ...\n231         231    萨摩亚         Samoa          WS         WSM  231\n232         232     也门         Yemen          YE         YEM  232\n233         233     南非  South Africa          ZA         ZAF  233\n234         234    赞比亚        Zambia          ZM         ZMB  234\n235         235   津巴布韦      Zimbabwe          ZW         ZWE  235\n\n[236 rows x 6 columns]",
      "text/html": "<div>\n<style scoped>\n    .dataframe tbody tr th:only-of-type {\n        vertical-align: middle;\n    }\n\n    .dataframe tbody tr th {\n        vertical-align: top;\n    }\n\n    .dataframe thead th {\n        text-align: right;\n    }\n</style>\n<table border=\"1\" class=\"dataframe\">\n  <thead>\n    <tr style=\"text-align: right;\">\n      <th></th>\n      <th>Unnamed: 0</th>\n      <th>name</th>\n      <th>name_en</th>\n      <th>ISO3166_1_2</th>\n      <th>STANAG_1059</th>\n      <th>CID</th>\n    </tr>\n  </thead>\n  <tbody>\n    <tr>\n      <th>0</th>\n      <td>0</td>\n      <td>阿鲁巴</td>\n      <td>Aruba</td>\n      <td>AW</td>\n      <td>ABW</td>\n      <td>0</td>\n    </tr>\n    <tr>\n      <th>1</th>\n      <td>1</td>\n      <td>阿富汗</td>\n      <td>Afghanistan</td>\n      <td>AF</td>\n      <td>AFG</td>\n      <td>1</td>\n    </tr>\n    <tr>\n      <th>2</th>\n      <td>2</td>\n      <td>安哥拉</td>\n      <td>Angola</td>\n      <td>AO</td>\n      <td>AGO</td>\n      <td>2</td>\n    </tr>\n    <tr>\n      <th>3</th>\n      <td>3</td>\n      <td>安圭拉</td>\n      <td>Anguilla</td>\n      <td>AI</td>\n      <td>AIA</td>\n      <td>3</td>\n    </tr>\n    <tr>\n      <th>4</th>\n      <td>4</td>\n      <td>阿尔巴尼亚</td>\n      <td>Albania</td>\n      <td>AL</td>\n      <td>ALB</td>\n      <td>4</td>\n    </tr>\n    <tr>\n      <th>...</th>\n      <td>...</td>\n      <td>...</td>\n      <td>...</td>\n      <td>...</td>\n      <td>...</td>\n      <td>...</td>\n    </tr>\n    <tr>\n      <th>231</th>\n      <td>231</td>\n      <td>萨摩亚</td>\n      <td>Samoa</td>\n      <td>WS</td>\n      <td>WSM</td>\n      <td>231</td>\n    </tr>\n    <tr>\n      <th>232</th>\n      <td>232</td>\n      <td>也门</td>\n      <td>Yemen</td>\n      <td>YE</td>\n      <td>YEM</td>\n      <td>232</td>\n    </tr>\n    <tr>\n      <th>233</th>\n      <td>233</td>\n      <td>南非</td>\n      <td>South Africa</td>\n      <td>ZA</td>\n      <td>ZAF</td>\n      <td>233</td>\n    </tr>\n    <tr>\n      <th>234</th>\n      <td>234</td>\n      <td>赞比亚</td>\n      <td>Zambia</td>\n      <td>ZM</td>\n      <td>ZMB</td>\n      <td>234</td>\n    </tr>\n    <tr>\n      <th>235</th>\n      <td>235</td>\n      <td>津巴布韦</td>\n      <td>Zimbabwe</td>\n      <td>ZW</td>\n      <td>ZWE</td>\n      <td>235</td>\n    </tr>\n  </tbody>\n</table>\n<p>236 rows × 6 columns</p>\n</div>"
     },
     "metadata": {},
     "execution_count": 7
    }
   ],
   "source": [
    "country"
   ]
  },
  {
   "cell_type": "code",
   "execution_count": 6,
   "metadata": {},
   "outputs": [
    {
     "output_type": "execute_result",
     "data": {
      "text/plain": "['阿鲁巴',\n '阿富汗',\n '安哥拉',\n '安圭拉',\n '阿尔巴尼亚',\n '安道尔',\n '库拉索（荷）',\n '阿联酋',\n '阿根廷',\n '亚美尼亚',\n '美属萨摩亚',\n '南极洲',\n '法属南部领地',\n '安提瓜和巴布达',\n '澳大利亚',\n '奥地利',\n '阿塞拜疆',\n '布隆迪',\n '比利时',\n '贝宁',\n '布基纳法索',\n '孟加拉国',\n '保加利亚',\n '巴林',\n '巴哈马',\n '波黑',\n '白俄罗斯',\n '伯利兹',\n '百慕大',\n '玻利维亚',\n '巴西',\n '巴巴多斯',\n '文莱',\n '不丹',\n '布维岛',\n '博茨瓦纳',\n '中非',\n '加拿大',\n '科科斯群岛（澳）',\n '瑞士',\n '智利',\n '中国',\n '科特迪瓦',\n '喀麦隆',\n '刚果民主共和国',\n '刚果',\n '库克群岛',\n '哥伦比亚',\n '科摩罗',\n '佛得角',\n '哥斯达黎加',\n '古巴',\n '圣诞岛（澳）',\n '开曼群岛',\n '塞浦路斯',\n '捷克',\n '德国',\n '吉布提',\n '多米尼克',\n '丹麦',\n '多米尼加',\n '阿尔及利亚',\n '厄瓜多尔',\n '埃及',\n '厄立特里亚',\n '西撒哈拉',\n '西班牙',\n '爱沙尼亚',\n '埃塞俄比亚',\n '芬兰',\n '斐济',\n '马尔维纳斯群岛',\n '克利珀顿岛（法）',\n '法罗群岛',\n '密克罗尼西亚联邦',\n '加蓬',\n '英国',\n '格鲁吉亚',\n '加纳',\n '直布罗陀',\n '几内亚',\n '瓜德罗普',\n '冈比亚',\n '几内亚比绍',\n '赤道几内亚',\n '希腊',\n '格林纳达',\n '格陵兰（丹）',\n '危地马拉',\n '法属圭亚那',\n '圭亚那',\n '赫德岛和麦克唐纳岛',\n '洪都拉斯',\n '克罗地亚',\n '海地',\n '匈牙利',\n '印度尼西亚',\n '印度',\n '英属印度洋领地',\n '爱尔兰',\n '伊朗',\n '伊拉克',\n '冰岛',\n '以色列',\n '意大利',\n '牙买加',\n '约旦',\n '日本',\n '哈萨克斯坦',\n '肯尼亚',\n '吉尔吉斯斯坦',\n '柬埔寨',\n '基里巴斯',\n '圣基茨和尼维斯',\n '韩国',\n '科威特',\n '老挝',\n '黎巴嫩',\n '利比里亚',\n '利比亚',\n '圣卢西亚',\n '列支敦士登',\n '斯里兰卡',\n '莱索托',\n '立陶宛',\n '卢森堡',\n '拉脱维亚',\n '摩洛哥',\n '摩纳哥',\n '摩尔多瓦',\n '马达加斯加',\n '马尔代夫',\n '墨西哥',\n '马绍尔群岛',\n '前南马其顿',\n '马里',\n '马耳他',\n '缅甸',\n '黑山共和国',\n '蒙古',\n '北马里亚纳',\n '莫桑比克',\n '毛里塔尼亚',\n '蒙特塞拉特',\n '马提尼克',\n '毛里求斯',\n '马拉维',\n '马来西亚',\n '马约特',\n '纳米比亚',\n '新喀里多尼亚',\n '尼日尔',\n '诺福克岛（澳）',\n '尼日利亚',\n '尼加拉瓜',\n '纽埃',\n '荷兰',\n '挪威',\n '尼泊尔',\n '瑙鲁',\n '新西兰',\n '阿曼',\n '巴基斯坦',\n '巴拿马',\n '皮特凯恩',\n '秘鲁',\n '菲律宾',\n '帕劳',\n '巴布亚新几内亚',\n '波兰',\n '波多黎各',\n '朝鲜',\n '葡萄牙',\n '巴拉圭',\n '法属玻利尼西亚',\n '卡塔尔',\n '留尼汪',\n '罗马尼亚',\n '俄罗斯联邦',\n '卢旺达',\n '沙特阿拉伯',\n '苏丹',\n '塞内加尔',\n '爱德华王子岛',\n '新加坡',\n '南乔治亚岛和南桑德韦奇岛',\n '圣赫勒拿',\n '斯瓦尔巴岛和扬马延岛',\n '所罗门群岛',\n '塞拉利昂',\n '萨尔瓦多',\n '圣马力诺',\n '索马里',\n '圣皮埃尔和密克隆',\n '塞尔维亚',\n '南苏丹',\n '圣多美和普林西比',\n '苏里南',\n '斯洛伐克',\n '斯洛文尼亚',\n '瑞典',\n '斯威士兰',\n '塞舌尔',\n '叙利亚',\n '特克斯和凯科斯群岛',\n '乍得',\n '多哥',\n '泰国',\n '塔吉克斯坦',\n '托克劳',\n '土库曼斯坦',\n '东帝汶',\n '汤加',\n '特立尼达和多巴哥',\n '突尼斯',\n '土耳其',\n '图瓦卢',\n '坦桑尼亚',\n '乌干达',\n '乌克兰',\n '乌拉圭',\n '美国',\n '乌兹别克斯坦',\n '梵蒂冈',\n '圣文森特和格林纳丁斯',\n '委内瑞拉',\n '英属维尔京群岛',\n '美属维尔京群岛',\n '越南',\n '瓦努阿图',\n '瓦利斯和富图纳',\n '萨摩亚',\n '也门',\n '南非',\n '赞比亚',\n '津巴布韦']"
     },
     "metadata": {},
     "execution_count": 6
    }
   ],
   "source": [
    "list(country['name'])"
   ]
  },
  {
   "cell_type": "code",
   "execution_count": 2,
   "metadata": {},
   "outputs": [],
   "source": [
    "import json "
   ]
  },
  {
   "cell_type": "code",
   "execution_count": 3,
   "metadata": {},
   "outputs": [],
   "source": [
    "with open('./global_confirm_en.json','rb') as f:\n",
    "    j_data = json.load(f)"
   ]
  },
  {
   "cell_type": "code",
   "execution_count": 4,
   "metadata": {},
   "outputs": [
    {
     "output_type": "execute_result",
     "data": {
      "text/plain": "dict_keys(['Aruba', 'Afghanistan', 'Angola', 'Anguilla', 'Albania', 'Andorra', 'Curacao (neth.)', 'United Arab Emirates', 'Argentina', 'Armenia', 'American Samoa', 'Antarctica', 'French Southern Territories', 'Antigua and Barbuda', 'Australia', 'Austria', 'Azerbaijan', 'Burundi', 'Belgium', 'Benin', 'Burkina Faso', 'Bangladesh', 'Bulgaria', 'Bahrain', 'Bahamas', 'Bosnia and Herzegovina', 'Belarus', 'Belize', 'Bermuda', 'Bolivia', 'Brazil', 'Barbados', 'Brunei', 'Bhutan', 'Bouvet Island', 'Botswana', 'Central Africa', 'Canada', 'Cocos Islands (aus.)', 'Switzerland', 'Chile', 'China', 'Cote D’ivoire', 'Cameroon', 'D.r.congo', 'Congo', 'Cook Islands', 'Colombia', 'Comoros', 'Cape Verde', 'Costa Rica', 'Cuba', 'Christmas Island (aus.)', 'Cayman Islands', 'Cyprus', 'Czech Republic', 'Germany', 'Djibouti', 'Dominica', 'Denmark', 'Dominican Republic', 'Algeria', 'Ecuador', 'Egypt', 'Eritrea', 'Western Sahara', 'Spain', 'Estonia', 'Ethiopia', 'Finland', 'Fiji', 'Is.Malvinas', 'France', 'Faroe Islands', 'Micronesia', 'Gabon', 'United Kingdom', 'Georgia', 'Ghana', 'Gibraltar', 'Guinea', 'Guadeloupe', 'Gambia', 'Guinea-Bissau', 'Equatorial Guinea', 'Greece', 'Grenada', 'Greenland (den.)', 'Guatemala', 'French Guiana', 'Guyana', 'Heard Island and Mcdonald Islands', 'Honduras', 'Croatia', 'Haiti', 'Hungary', 'Indonesia', 'India', 'British Indian Ocean Territory', 'Ireland', 'Iran', 'Iraq', 'Iceland', 'Israel', 'Italy', 'Jamaica', 'Jordan', 'Japan', 'Kazakhstan', 'Kenya', 'Kyrgyzstan', 'Cambodia', 'Kiribati', 'St.Kitts and Nevis', 'Korea', 'Kuwait', 'Laos', 'Lebanon', 'Liberia', 'Libya', 'St. Lucia', 'Liechtenstein', 'Srilanka', 'Lesotho', 'Lithuania', 'Letzebuerg', 'Latvia', 'Morocco', 'Monaco', 'Moldova', 'Madagascar', 'Maldives', 'Mexico', 'Marshall Islands', 'Macedonia MK ', 'Mali', 'Malta', 'Myanmar', 'Montenegro', 'Mongolia', 'Northern Mariana Islands', 'Mozambique', 'Mauritania', 'Montserrat', 'Martinique', 'Mauritius', 'Malawi', 'Malaysia', 'Mayotte', 'Namibia', 'New Caledonia', 'Niger', 'Norfolk Island (aus.)', 'Nigeria', 'Nicaragua', 'Niue', 'Netherlands', 'Norway', 'Nepal', 'Nauru', 'New Zealand', 'Oman', 'Pakistan', 'Panama', 'Pitcairn', 'Peru', 'Philippines', 'Palau', 'Papua New Guinea', 'Poland', 'Puerto Rico', \"Democratic People's Republic of Korea\", 'Portugal', 'Paraguay', 'French Polynesia', 'Qatar', 'Reunion', 'Romania', 'Russian Federation', 'Rwanda', 'Saudi Arabia', 'Sudan', 'Senegal', 'Prince Edward Island', 'Singapore', 'South Georgia and the South Sandwich Islands', 'Saint Helena', 'Svalbard and Jan Mayen', 'Solomon Islands', 'Sierra Leone', 'El Salvador', 'San Marino', 'Somalia', 'Saint Pierre and Miquelon', 'Serbia', 'South Sudan', 'Sao Tome and Principe', 'Suriname', 'Slovakia', 'Slovenia', 'Sweden', 'Swaziland', 'Seychelles', 'Syria', 'Turks and Caicos Islands', 'Chad', 'Togo', 'Thailand', 'Tajikistan', 'Tokelau', 'Turkmenistan', 'East Timor', 'Tonga', 'Trinidad and Tobago', 'Tunisia', 'Turkey', 'Tuvalu', 'Tanzania', 'Uganda', 'Ukraine', 'Uruguay', 'United States', 'Uzbekistan', 'Vatican city', 'Saint Vincent and the Grenadines', 'Venezuela', 'Virgin Islands（u.k.）', 'Virgin Islands,u.s.', 'Vietnam', 'Vanuatu', 'Wallis and Futuna', 'Samoa', 'Yemen', 'South Africa', 'Zambia', 'Zimbabwe'])"
     },
     "metadata": {},
     "execution_count": 4
    }
   ],
   "source": [
    "j_data.keys()"
   ]
  },
  {
   "cell_type": "code",
   "execution_count": null,
   "metadata": {},
   "outputs": [],
   "source": []
  }
 ]
}